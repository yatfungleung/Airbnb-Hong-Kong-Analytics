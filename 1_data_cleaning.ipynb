{
 "cells": [
  {
   "cell_type": "code",
   "execution_count": 1,
   "metadata": {},
   "outputs": [],
   "source": [
    "import numpy as np\n",
    "import pandas as pd\n",
    "import pymongo\n",
    "from pymongo import MongoClient\n",
    "import datetime"
   ]
  },
  {
   "cell_type": "code",
   "execution_count": 2,
   "metadata": {},
   "outputs": [],
   "source": [
    "# connect to MongoDB\n",
    "client = MongoClient('localhost', 27017)"
   ]
  },
  {
   "cell_type": "code",
   "execution_count": 7,
   "metadata": {},
   "outputs": [],
   "source": [
    "# access to database\n",
    "database = client['airbnb_hong_kong']"
   ]
  },
  {
   "cell_type": "code",
   "execution_count": 8,
   "metadata": {},
   "outputs": [],
   "source": [
    "# access to collection(table)\n",
    "collection = database['listings']"
   ]
  },
  {
   "cell_type": "markdown",
   "metadata": {},
   "source": [
    "# 1. Overview"
   ]
  },
  {
   "cell_type": "code",
   "execution_count": 38,
   "metadata": {},
   "outputs": [
    {
     "name": "stdout",
     "output_type": "stream",
     "text": [
      "total number of listings: 7087\n"
     ]
    }
   ],
   "source": [
    "# total number of listings\n",
    "x = collection.count_documents({})\n",
    "print('total number of listings:', x)"
   ]
  },
  {
   "cell_type": "code",
   "execution_count": 23,
   "metadata": {
    "scrolled": true
   },
   "outputs": [
    {
     "data": {
      "text/plain": [
       "{'_id': ObjectId('60b7510cfb23503df45cb721'),\n",
       " 'id': 69074,\n",
       " 'listing_url': 'https://www.airbnb.com/rooms/69074',\n",
       " 'scrape_id': 20210220182008.0,\n",
       " 'last_scraped': '2021-02-21',\n",
       " 'name': 'Beautiful oasis of plants & art @ best location',\n",
       " 'description': 'An ideal Hong location any visitor--hip without being touristy--this contemporary & newly renovated 1 bedroom apartment has every feature you need for your stay, from a stereo and internet to cooking needs and warm lighting. Enjoy!<br /><br /><b>The space</b><br />Filled with plants and art, this one bedroom urban oasis has been newly renovated and impeccably re-decorated -- warm and inviting in the best of neighborhoods for your stay in Hong Kong.  The art comes from local and regional artists all over Asia and the art & coffee table books are there for your enjoyment during your stay. The custom built desks provide ample working space. A fold out table is adjacent to the kitchen for dining.<br /><br />Before reading further, please kindly note: for those who do not have any or many AirBnB reviews, I do require an full introduction of who you are as this is my personal place.  Also, as this is an AirBnB and not a hotel and I do not charge a cleaning fee, I do politely ask it to be ret',\n",
       " 'neighborhood_overview': 'In the upper part of trendy, hip Sheung Wan, within walking distance to all -- a very central and ideal location.   Next to the famous Man Mo Temple and also near many of the the trendiest restaurants in town. Easy walking distance to Central for meetings and a 5 minute walk to the MTR subway system.',\n",
       " 'picture_url': 'https://a0.muscache.com/pictures/84364564/1e0c3fe3_original.jpg',\n",
       " 'host_id': 160139,\n",
       " 'host_url': 'https://www.airbnb.com/users/show/160139',\n",
       " 'host_name': 'Amy',\n",
       " 'host_since': '2010-07-07',\n",
       " 'host_location': 'Hong Kong',\n",
       " 'host_about': \"I've been with AirBnB now for many years, often having guests stay at my apartment in the midst of it all in Hong Kong (and now in the heart of Williamsburg, Brooklyn) and feel that hosting is a true pleasure. I like to receive guests as if they were friends, as we're all travellers at heart. \\r\\n\\r\\nI'm an American fine art photographer and I travel often, so would like to offer my place to you while I am not there.  I keep them both clean, stylized and comfortable so you'll feel more at home.\\r\\n\\r\\nI travel often and often remotely so sometimes it takes a couple days for me to respond but as long as I have wifi I'll get back to you immediately. \\r\\n\\r\\nIf you are interested, I would be delighted to provide more information about myself directly to you. So please just ask!\",\n",
       " 'host_response_time': 'within a day',\n",
       " 'host_response_rate': '67%',\n",
       " 'host_acceptance_rate': '67%',\n",
       " 'host_is_superhost': 't',\n",
       " 'host_thumbnail_url': 'https://a0.muscache.com/im/users/160139/profile_pic/1294866572/original.jpg?aki_policy=profile_small',\n",
       " 'host_picture_url': 'https://a0.muscache.com/im/users/160139/profile_pic/1294866572/original.jpg?aki_policy=profile_x_medium',\n",
       " 'host_neighbourhood': 'Sheung Wan',\n",
       " 'host_listings_count': 2,\n",
       " 'host_total_listings_count': 2,\n",
       " 'host_verifications': \"['email', 'phone', 'reviews', 'jumio', 'offline_government_id', 'government_id', 'work_email']\",\n",
       " 'host_has_profile_pic': 't',\n",
       " 'host_identity_verified': 't',\n",
       " 'neighbourhood': 'Sheung Wan, Hong Kong',\n",
       " 'neighbourhood_cleansed': 'Central & Western',\n",
       " 'latitude': 22.28352,\n",
       " 'longitude': 114.15018,\n",
       " 'property_type': 'Entire apartment',\n",
       " 'room_type': 'Entire home/apt',\n",
       " 'accommodates': 3,\n",
       " 'bathrooms_text': '1 bath',\n",
       " 'bedrooms': 1,\n",
       " 'beds': 2,\n",
       " 'amenities': '[\"Hair dryer\", \"Dryer\", \"Hot water\", \"Air conditioning\", \"Wifi\", \"Hangers\", \"Shampoo\", \"Room-darkening shades\", \"Refrigerator\", \"First aid kit\", \"Kitchen\", \"Smoke alarm\", \"Essentials\", \"Dedicated workspace\", \"Heating\", \"Iron\", \"Cooking basics\", \"Oven\", \"Lockbox\", \"Stove\", \"Coffee maker\", \"Bathtub\", \"Long term stays allowed\", \"Washer\", \"Carbon monoxide alarm\", \"Breakfast\", \"Cable TV\", \"Dishes and silverware\"]',\n",
       " 'price': '$1,135.00',\n",
       " 'minimum_nights': 3,\n",
       " 'maximum_nights': 365,\n",
       " 'minimum_minimum_nights': 3,\n",
       " 'maximum_minimum_nights': 4,\n",
       " 'minimum_maximum_nights': 365,\n",
       " 'maximum_maximum_nights': 365,\n",
       " 'minimum_nights_avg_ntm': 3.1,\n",
       " 'maximum_nights_avg_ntm': 365,\n",
       " 'has_availability': 't',\n",
       " 'availability_30': 24,\n",
       " 'availability_60': 54,\n",
       " 'availability_90': 84,\n",
       " 'availability_365': 174,\n",
       " 'calendar_last_scraped': '2021-02-21',\n",
       " 'number_of_reviews': 134,\n",
       " 'number_of_reviews_ltm': 1,\n",
       " 'number_of_reviews_l30d': 0,\n",
       " 'first_review': '2011-02-14',\n",
       " 'last_review': '2020-03-24',\n",
       " 'review_scores_rating': 97,\n",
       " 'review_scores_accuracy': 10,\n",
       " 'review_scores_cleanliness': 9,\n",
       " 'review_scores_checkin': 10,\n",
       " 'review_scores_communication': 10,\n",
       " 'review_scores_location': 10,\n",
       " 'review_scores_value': 9,\n",
       " 'instant_bookable': 'f',\n",
       " 'calculated_host_listings_count': 1,\n",
       " 'calculated_host_listings_count_entire_homes': 1,\n",
       " 'calculated_host_listings_count_private_rooms': 0,\n",
       " 'calculated_host_listings_count_shared_rooms': 0,\n",
       " 'reviews_per_month': 1.1}"
      ]
     },
     "execution_count": 23,
     "metadata": {},
     "output_type": "execute_result"
    }
   ],
   "source": [
    "# check the first item\n",
    "collection.find_one()"
   ]
  },
  {
   "cell_type": "code",
   "execution_count": 39,
   "metadata": {},
   "outputs": [
    {
     "name": "stdout",
     "output_type": "stream",
     "text": [
      "total number of hosts: 2048\n"
     ]
    }
   ],
   "source": [
    "# total number of hosts\n",
    "x = len(collection.distinct('host_id'))\n",
    "print('total number of hosts:', x)"
   ]
  },
  {
   "cell_type": "code",
   "execution_count": 49,
   "metadata": {},
   "outputs": [
    {
     "name": "stdout",
     "output_type": "stream",
     "text": [
      "total number of superhosts: 1286\n",
      "total number of non-superhosts: 5797\n",
      "superhost percentage: 0.18\n"
     ]
    }
   ],
   "source": [
    "# total number of superhosts\n",
    "\n",
    "query = {'host_is_superhost': 't'}\n",
    "x = collection.count_documents(query)\n",
    "\n",
    "query = {'host_is_superhost': 'f'}\n",
    "y = collection.count_documents(query)\n",
    "\n",
    "print('total number of superhosts:', x)\n",
    "print('total number of non-superhosts:', y)\n",
    "print('superhost percentage:', round(x/(x+y),2))"
   ]
  },
  {
   "cell_type": "code",
   "execution_count": 53,
   "metadata": {},
   "outputs": [
    {
     "name": "stdout",
     "output_type": "stream",
     "text": [
      "number of property types: 76\n"
     ]
    }
   ],
   "source": [
    "# number of property types\n",
    "\n",
    "x = len(collection.distinct('property_type'))\n",
    "print('number of property types:', x)"
   ]
  },
  {
   "cell_type": "code",
   "execution_count": 55,
   "metadata": {},
   "outputs": [
    {
     "data": {
      "text/plain": [
       "['Entire home/apt', 'Hotel room', 'Private room', 'Shared room']"
      ]
     },
     "execution_count": 55,
     "metadata": {},
     "output_type": "execute_result"
    }
   ],
   "source": [
    "# number of room type\n",
    "collection.distinct('room_type')"
   ]
  },
  {
   "cell_type": "code",
   "execution_count": 84,
   "metadata": {},
   "outputs": [
    {
     "name": "stdout",
     "output_type": "stream",
     "text": [
      "{'name': '香港 Hong Kong 長洲 Cheung Chau lsland', 'description': '離碼頭 8-10分鐘路程 (free wifi)<br /><br /><b>The space</b><br />整個單位330呎 採全開放式,正常可2人睡( 不是和別人供享的 ) 2人後就加$80元1個人 (小朋友同價) 因空間比一般渡假屋大 另可加2張單人摺床或雙人充氣床褥，沙發夠大都足夠睡1人 單位最多5人睡,可供簡單煮食<br />(如有寵物每隻額外收取$80元 訂時加人數一位就可) 屋内已有水兜 軟墊和狗廁所提供 來前請咨詢)<br /><br /><b>Guest access</b><br />free wifi 風筒 洗澡用品 電熱水爐 電熱水煲 藍牙speakers 自拍腳架 小暖風機  Gas煮食爐<br /><br /><b>Other things to note</b><br />不是共享單位  沒有海景  不可BBQ 要自備牙刷牙膏毛巾3樣', 'number_of_reviews': 828}\n",
      "\n",
      "the highest number of review: 828\n"
     ]
    }
   ],
   "source": [
    "# number of reivew\n",
    "\n",
    "x = collection.find({},{\n",
    "        '_id':0, 'name':1,\n",
    "        'description':1,\n",
    "        'number_of_reviews':1\n",
    "    }).sort('number_of_reviews',-1).limit(1)\n",
    "\n",
    "for cursor in x:\n",
    "    print(cursor)\n",
    "    print('\\nthe highest number of review:', cursor['number_of_reviews'])"
   ]
  },
  {
   "cell_type": "code",
   "execution_count": 98,
   "metadata": {},
   "outputs": [
    {
     "name": "stdout",
     "output_type": "stream",
     "text": [
      "average number of review per listing(excluding zero review): 40.86\n"
     ]
    }
   ],
   "source": [
    "# average number of review per listing\n",
    "\n",
    "def streaming_average(previous_count, previous_average, n):\n",
    "    new_average = ((previous_count * previous_average) + n) / (previous_count + 1)\n",
    "    return new_average\n",
    "\n",
    "x = collection.find({},{'_id':0, 'number_of_reviews':1})\n",
    "\n",
    "previous_count, previous_average = 0, 0\n",
    "for cursor in x:\n",
    "    n = cursor['number_of_reviews']\n",
    "    \n",
    "    # skip all zero review\n",
    "    if n != 0:\n",
    "        new_average = streaming_average(previous_count, previous_average, n)\n",
    "    \n",
    "    previous_average = new_average\n",
    "    previous_count += 1\n",
    "\n",
    "print('average number of review per listing(excluding zero review):', round(new_average,2))"
   ]
  },
  {
   "cell_type": "code",
   "execution_count": 102,
   "metadata": {
    "scrolled": false
   },
   "outputs": [
    {
     "data": {
      "text/plain": [
       "['Central & Western',\n",
       " 'Eastern',\n",
       " 'Islands',\n",
       " 'Kowloon City',\n",
       " 'Kwai Tsing',\n",
       " 'Kwun Tong',\n",
       " 'North',\n",
       " 'Sai Kung',\n",
       " 'Sha Tin',\n",
       " 'Sham Shui Po',\n",
       " 'Southern',\n",
       " 'Tai Po',\n",
       " 'Tsuen Wan',\n",
       " 'Tuen Mun',\n",
       " 'Wan Chai',\n",
       " 'Wong Tai Sin',\n",
       " 'Yau Tsim Mong',\n",
       " 'Yuen Long']"
      ]
     },
     "execution_count": 102,
     "metadata": {},
     "output_type": "execute_result"
    }
   ],
   "source": [
    "# 18 districts\n",
    "collection.distinct('neighbourhood_cleansed')"
   ]
  },
  {
   "cell_type": "code",
   "execution_count": null,
   "metadata": {},
   "outputs": [],
   "source": [
    "# Central & Western\n",
    "# Yau Tsim Mong\n",
    "# Yuen Long"
   ]
  },
  {
   "cell_type": "markdown",
   "metadata": {},
   "source": [
    "# 2. Yau Tsim Mong"
   ]
  },
  {
   "cell_type": "code",
   "execution_count": 108,
   "metadata": {},
   "outputs": [
    {
     "name": "stdout",
     "output_type": "stream",
     "text": [
      "listing name: Couple Tatami Room@Austin,Jordan,Tsim Sha Tsu\n",
      "number of reviews: 472\n",
      "\n",
      "\n",
      "listing name: 1分鐘到高鐵站,地鐵站、1min to Metro Station,Free Pocket WiFi\n",
      "number of reviews: 433\n",
      "\n",
      "\n",
      "listing name: Lovely home Mong Kok MTR Railway 4 beds\n",
      "number of reviews: 384\n",
      "\n",
      "\n",
      "listing name: Twin Room@hub of Kowloon to Airport and China\n",
      "number of reviews: 378\n",
      "\n",
      "\n",
      "listing name: Single Tatami1@Austin,Jordan,Tsim Sha Tsui\n",
      "number of reviews: 372\n",
      "\n",
      "\n"
     ]
    }
   ],
   "source": [
    "# top 5 listings by review no\n",
    "\n",
    "x = collection.find({'neighbourhood_cleansed':'Yau Tsim Mong'},{'_id':0, 'name':1, 'number_of_reviews':1}).sort('number_of_reviews',-1).limit(5)\n",
    "\n",
    "for cursor in x:\n",
    "    print('listing name:', cursor['name'])\n",
    "    print('number of reviews:', cursor['number_of_reviews'])\n",
    "    print('\\n')"
   ]
  },
  {
   "cell_type": "code",
   "execution_count": 110,
   "metadata": {},
   "outputs": [
    {
     "name": "stdout",
     "output_type": "stream",
     "text": [
      "listing name: ❤❤ Peaceful Apartment ❤❤ Tsim Sha Tsui\n",
      "number of reviews: 364\n",
      "\n",
      "\n",
      "listing name: Comfort Home in Prince Edward Mtr 4 beds\n",
      "number of reviews: 353\n",
      "\n",
      "\n",
      "listing name: Deluxe Twin Room@Tsim Sha Tsui,Austin,Jordan\n",
      "number of reviews: 349\n",
      "\n",
      "\n",
      "listing name: (3) 干、濕分開,溫馨雙人大床房間(房號3)!值得一試!\n",
      "number of reviews: 344\n",
      "\n",
      "\n",
      "listing name: Tsim Sha Tsui, newly 2 beds apt. I.\n",
      "number of reviews: 338\n",
      "\n",
      "\n"
     ]
    }
   ],
   "source": [
    "# next top 5 (5-10th) listings by review no\n",
    "\n",
    "x = collection.find({'neighbourhood_cleansed':'Yau Tsim Mong'},{'_id':0, 'name':1, 'number_of_reviews':1}).sort('number_of_reviews',-1).skip(5).limit(5)\n",
    "\n",
    "for cursor in x:\n",
    "    print('listing name:', cursor['name'])\n",
    "    print('number of reviews:', cursor['number_of_reviews'])\n",
    "    print('\\n')"
   ]
  },
  {
   "cell_type": "code",
   "execution_count": 116,
   "metadata": {},
   "outputs": [
    {
     "name": "stdout",
     "output_type": "stream",
     "text": [
      "listing name: Harbour Mong kok Renovated Room 5\n",
      "number of reviews: 100\n",
      "\n",
      "\n",
      "listing name: 10 mins to CITY U --------- by MTR\n",
      "number of reviews: 100\n",
      "\n",
      "\n",
      "listing name: Monthly Rental 14103 Tsim Sha Tsui MTR above\n",
      "number of reviews: 100\n",
      "\n",
      "\n",
      "listing name: Creative Residence in Yau Ma Tei\n",
      "number of reviews: 100\n",
      "\n",
      "\n",
      "listing name: 尖沙咀的1房1厅，住3人，有厨房月租14000起\n",
      "number of reviews: 100\n",
      "\n",
      "\n"
     ]
    }
   ],
   "source": [
    "# top 5 listings by review rating with at least 50 reviews\n",
    "\n",
    "x = collection.find({'neighbourhood_cleansed':'Yau Tsim Mong'},{'_id':0, 'name':1, 'review_scores_rating':1}).sort('review_scores_rating',-1).limit(5)\n",
    "\n",
    "for cursor in x:\n",
    "    print('listing name:', cursor['name'])\n",
    "    print('number of reviews:', cursor['review_scores_rating'])\n",
    "    print('\\n')\n",
    "    \n",
    "# with at least 50 reviews\n",
    "# try using MongoDB command in the first bracket\n",
    "# add conditions"
   ]
  },
  {
   "cell_type": "code",
   "execution_count": null,
   "metadata": {},
   "outputs": [],
   "source": [
    "# next top 5 (5-10)listings by review rating"
   ]
  },
  {
   "cell_type": "code",
   "execution_count": null,
   "metadata": {},
   "outputs": [],
   "source": [
    "# all listings with review rating over 90(?)"
   ]
  },
  {
   "cell_type": "code",
   "execution_count": null,
   "metadata": {},
   "outputs": [],
   "source": [
    "# averaage price"
   ]
  },
  {
   "cell_type": "code",
   "execution_count": null,
   "metadata": {},
   "outputs": [],
   "source": [
    "# all listings with price between 500 and 700 (?)"
   ]
  },
  {
   "cell_type": "code",
   "execution_count": null,
   "metadata": {},
   "outputs": [],
   "source": [
    "# average review rating"
   ]
  },
  {
   "cell_type": "code",
   "execution_count": null,
   "metadata": {},
   "outputs": [],
   "source": [
    "# all listings with 'amenities' has \"Wifi\", \"Coffee maker\", \"Cable TV\""
   ]
  },
  {
   "cell_type": "code",
   "execution_count": null,
   "metadata": {},
   "outputs": [],
   "source": [
    "# listings with 'bedrooms': 2"
   ]
  },
  {
   "cell_type": "markdown",
   "metadata": {},
   "source": [
    "# 3. Central & Western"
   ]
  },
  {
   "cell_type": "code",
   "execution_count": 109,
   "metadata": {
    "scrolled": true
   },
   "outputs": [
    {
     "name": "stdout",
     "output_type": "stream",
     "text": [
      "listing name: SOHO'S URBAN CHIC DESIGNERS APT\n",
      "number of reviews: 410\n",
      "\n",
      "\n",
      "listing name: cdk guest room - twin\n",
      "number of reviews: 319\n",
      "\n",
      "\n",
      "listing name: Stunning Large Studio + Terrace. 1min to MTR.\n",
      "number of reviews: 312\n",
      "\n",
      "\n",
      "listing name: Central Centre 5 min walk to/from Central MTR\n",
      "number of reviews: 272\n",
      "\n",
      "\n",
      "listing name: Soho off Hollywood Road P3\n",
      "number of reviews: 232\n",
      "\n",
      "\n"
     ]
    }
   ],
   "source": [
    "# top 5 listings by review no\n",
    "\n",
    "x = collection.find({'neighbourhood_cleansed':'Central & Western'},{'_id':0, 'name':1, 'number_of_reviews':1}).sort('number_of_reviews',-1).limit(5)\n",
    "\n",
    "for cursor in x:\n",
    "    print('listing name:', cursor['name'])\n",
    "    print('number of reviews:', cursor['number_of_reviews'])\n",
    "    print('\\n')"
   ]
  },
  {
   "cell_type": "code",
   "execution_count": 111,
   "metadata": {
    "scrolled": true
   },
   "outputs": [
    {
     "name": "stdout",
     "output_type": "stream",
     "text": [
      "listing name: SoHo off Hollywood Road  3B\n",
      "number of reviews: 229\n",
      "\n",
      "\n",
      "listing name: Soho off Hollywood Road P4\n",
      "number of reviews: 224\n",
      "\n",
      "\n",
      "listing name: Perfect Retreat in Heart of City. 30sec to MTR.\n",
      "number of reviews: 221\n",
      "\n",
      "\n",
      "listing name: GREEN NEST IN  SHEUNG WAN HEART\n",
      "number of reviews: 208\n",
      "\n",
      "\n",
      "listing name: Fabulous 2 Bdrm Aprt Open kitchen\n",
      "number of reviews: 207\n",
      "\n",
      "\n"
     ]
    }
   ],
   "source": [
    "# next top 5 (5-10th) listings by review no\n",
    "\n",
    "x = collection.find({'neighbourhood_cleansed':'Central & Western'},{'_id':0, 'name':1, 'number_of_reviews':1}).sort('number_of_reviews',-1).skip(5).limit(5)\n",
    "\n",
    "for cursor in x:\n",
    "    print('listing name:', cursor['name'])\n",
    "    print('number of reviews:', cursor['number_of_reviews'])\n",
    "    print('\\n')"
   ]
  },
  {
   "cell_type": "markdown",
   "metadata": {},
   "source": [
    "# 4. Yuen Long"
   ]
  },
  {
   "cell_type": "code",
   "execution_count": 112,
   "metadata": {
    "scrolled": true
   },
   "outputs": [
    {
     "name": "stdout",
     "output_type": "stream",
     "text": [
      "listing name: 超赞房东 性价比高special deal 300 m to metro musician home\n",
      "number of reviews: 100\n",
      "\n",
      "\n",
      "listing name: 超赞豪华景观公寓浪漫情侣大床房/卓悦中心网红打卡商圈高端物业\n",
      "number of reviews: 97\n",
      "\n",
      "\n",
      "listing name: 高层景观舒适公寓双人房/福田口岸地铁囗高端小区/CBD会展中心/清静安全\n",
      "number of reviews: 62\n",
      "\n",
      "\n",
      "listing name: （已消毒，长租优惠）福田口岸，皇岗口岸，广深高速进出口，知名设计师佳作，精美三房\n",
      "number of reviews: 58\n",
      "\n",
      "\n",
      "listing name: Guest Room w/ Double Bed in Spacious Flat\n",
      "number of reviews: 55\n",
      "\n",
      "\n"
     ]
    }
   ],
   "source": [
    "# top 5 listings by review no\n",
    "\n",
    "x = collection.find({'neighbourhood_cleansed':'Yuen Long'},{'_id':0, 'name':1, 'number_of_reviews':1}).sort('number_of_reviews',-1).limit(5)\n",
    "\n",
    "for cursor in x:\n",
    "    print('listing name:', cursor['name'])\n",
    "    print('number of reviews:', cursor['number_of_reviews'])\n",
    "    print('\\n')"
   ]
  },
  {
   "cell_type": "code",
   "execution_count": 113,
   "metadata": {},
   "outputs": [
    {
     "name": "stdout",
     "output_type": "stream",
     "text": [
      "listing name: [初心]福田口岸会展中心直达北站温馨两居室可居4一6人\n",
      "number of reviews: 51\n",
      "\n",
      "\n",
      "listing name: 福田口岸地铁口舒适公寓温馨双人房/近CBD会展中心、购物公园、网红打卡商圈\n",
      "number of reviews: 44\n",
      "\n",
      "\n",
      "listing name: House with countryside view 元朗別墅獨立套房連陽台\n",
      "number of reviews: 40\n",
      "\n",
      "\n",
      "listing name: 福田口岸地铁口近CBD会展中心温馨舒适高级公寓双人房\n",
      "number of reviews: 40\n",
      "\n",
      "\n",
      "listing name: Beautiful 3 bedroom designer Apt\n",
      "number of reviews: 38\n",
      "\n",
      "\n"
     ]
    }
   ],
   "source": [
    "# next top 5 (5-10th) listings by review no\n",
    "\n",
    "x = collection.find({'neighbourhood_cleansed':'Yuen Long'},{'_id':0, 'name':1, 'number_of_reviews':1}).sort('number_of_reviews',-1).skip(5).limit(5)\n",
    "\n",
    "for cursor in x:\n",
    "    print('listing name:', cursor['name'])\n",
    "    print('number of reviews:', cursor['number_of_reviews'])\n",
    "    print('\\n')"
   ]
  },
  {
   "cell_type": "code",
   "execution_count": null,
   "metadata": {},
   "outputs": [],
   "source": []
  },
  {
   "cell_type": "code",
   "execution_count": null,
   "metadata": {},
   "outputs": [],
   "source": []
  },
  {
   "cell_type": "code",
   "execution_count": 6,
   "metadata": {},
   "outputs": [],
   "source": [
    "# END"
   ]
  }
 ],
 "metadata": {
  "kernelspec": {
   "display_name": "Python 3",
   "language": "python",
   "name": "python3"
  },
  "language_info": {
   "codemirror_mode": {
    "name": "ipython",
    "version": 3
   },
   "file_extension": ".py",
   "mimetype": "text/x-python",
   "name": "python",
   "nbconvert_exporter": "python",
   "pygments_lexer": "ipython3",
   "version": "3.8.5"
  }
 },
 "nbformat": 4,
 "nbformat_minor": 4
}

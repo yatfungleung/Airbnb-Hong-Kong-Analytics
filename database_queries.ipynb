{
 "cells": [
  {
   "cell_type": "code",
   "execution_count": 1,
   "metadata": {},
   "outputs": [],
   "source": [
    "import numpy as np\n",
    "import pandas as pd\n",
    "import pymongo\n",
    "from pymongo import MongoClient\n",
    "import datetime"
   ]
  },
  {
   "cell_type": "code",
   "execution_count": 2,
   "metadata": {},
   "outputs": [],
   "source": [
    "# connect to MongoDB\n",
    "client = MongoClient('localhost', 27017)"
   ]
  },
  {
   "cell_type": "code",
   "execution_count": 3,
   "metadata": {},
   "outputs": [],
   "source": [
    "# access to database\n",
    "database = client['airbnb_hong_kong']"
   ]
  },
  {
   "cell_type": "code",
   "execution_count": 4,
   "metadata": {},
   "outputs": [],
   "source": [
    "# access to collection(table)\n",
    "collection = database['listings']"
   ]
  },
  {
   "cell_type": "markdown",
   "metadata": {},
   "source": [
    "# 1. Overview"
   ]
  },
  {
   "cell_type": "code",
   "execution_count": 38,
   "metadata": {},
   "outputs": [
    {
     "name": "stdout",
     "output_type": "stream",
     "text": [
      "total number of listings: 7087\n"
     ]
    }
   ],
   "source": [
    "# total number of listings\n",
    "x = collection.count_documents({})\n",
    "print('total number of listings:', x)"
   ]
  },
  {
   "cell_type": "code",
   "execution_count": 23,
   "metadata": {
    "scrolled": true
   },
   "outputs": [
    {
     "data": {
      "text/plain": [
       "{'_id': ObjectId('60b7510cfb23503df45cb721'),\n",
       " 'id': 69074,\n",
       " 'listing_url': 'https://www.airbnb.com/rooms/69074',\n",
       " 'scrape_id': 20210220182008.0,\n",
       " 'last_scraped': '2021-02-21',\n",
       " 'name': 'Beautiful oasis of plants & art @ best location',\n",
       " 'description': 'An ideal Hong location any visitor--hip without being touristy--this contemporary & newly renovated 1 bedroom apartment has every feature you need for your stay, from a stereo and internet to cooking needs and warm lighting. Enjoy!<br /><br /><b>The space</b><br />Filled with plants and art, this one bedroom urban oasis has been newly renovated and impeccably re-decorated -- warm and inviting in the best of neighborhoods for your stay in Hong Kong.  The art comes from local and regional artists all over Asia and the art & coffee table books are there for your enjoyment during your stay. The custom built desks provide ample working space. A fold out table is adjacent to the kitchen for dining.<br /><br />Before reading further, please kindly note: for those who do not have any or many AirBnB reviews, I do require an full introduction of who you are as this is my personal place.  Also, as this is an AirBnB and not a hotel and I do not charge a cleaning fee, I do politely ask it to be ret',\n",
       " 'neighborhood_overview': 'In the upper part of trendy, hip Sheung Wan, within walking distance to all -- a very central and ideal location.   Next to the famous Man Mo Temple and also near many of the the trendiest restaurants in town. Easy walking distance to Central for meetings and a 5 minute walk to the MTR subway system.',\n",
       " 'picture_url': 'https://a0.muscache.com/pictures/84364564/1e0c3fe3_original.jpg',\n",
       " 'host_id': 160139,\n",
       " 'host_url': 'https://www.airbnb.com/users/show/160139',\n",
       " 'host_name': 'Amy',\n",
       " 'host_since': '2010-07-07',\n",
       " 'host_location': 'Hong Kong',\n",
       " 'host_about': \"I've been with AirBnB now for many years, often having guests stay at my apartment in the midst of it all in Hong Kong (and now in the heart of Williamsburg, Brooklyn) and feel that hosting is a true pleasure. I like to receive guests as if they were friends, as we're all travellers at heart. \\r\\n\\r\\nI'm an American fine art photographer and I travel often, so would like to offer my place to you while I am not there.  I keep them both clean, stylized and comfortable so you'll feel more at home.\\r\\n\\r\\nI travel often and often remotely so sometimes it takes a couple days for me to respond but as long as I have wifi I'll get back to you immediately. \\r\\n\\r\\nIf you are interested, I would be delighted to provide more information about myself directly to you. So please just ask!\",\n",
       " 'host_response_time': 'within a day',\n",
       " 'host_response_rate': '67%',\n",
       " 'host_acceptance_rate': '67%',\n",
       " 'host_is_superhost': 't',\n",
       " 'host_thumbnail_url': 'https://a0.muscache.com/im/users/160139/profile_pic/1294866572/original.jpg?aki_policy=profile_small',\n",
       " 'host_picture_url': 'https://a0.muscache.com/im/users/160139/profile_pic/1294866572/original.jpg?aki_policy=profile_x_medium',\n",
       " 'host_neighbourhood': 'Sheung Wan',\n",
       " 'host_listings_count': 2,\n",
       " 'host_total_listings_count': 2,\n",
       " 'host_verifications': \"['email', 'phone', 'reviews', 'jumio', 'offline_government_id', 'government_id', 'work_email']\",\n",
       " 'host_has_profile_pic': 't',\n",
       " 'host_identity_verified': 't',\n",
       " 'neighbourhood': 'Sheung Wan, Hong Kong',\n",
       " 'neighbourhood_cleansed': 'Central & Western',\n",
       " 'latitude': 22.28352,\n",
       " 'longitude': 114.15018,\n",
       " 'property_type': 'Entire apartment',\n",
       " 'room_type': 'Entire home/apt',\n",
       " 'accommodates': 3,\n",
       " 'bathrooms_text': '1 bath',\n",
       " 'bedrooms': 1,\n",
       " 'beds': 2,\n",
       " 'amenities': '[\"Hair dryer\", \"Dryer\", \"Hot water\", \"Air conditioning\", \"Wifi\", \"Hangers\", \"Shampoo\", \"Room-darkening shades\", \"Refrigerator\", \"First aid kit\", \"Kitchen\", \"Smoke alarm\", \"Essentials\", \"Dedicated workspace\", \"Heating\", \"Iron\", \"Cooking basics\", \"Oven\", \"Lockbox\", \"Stove\", \"Coffee maker\", \"Bathtub\", \"Long term stays allowed\", \"Washer\", \"Carbon monoxide alarm\", \"Breakfast\", \"Cable TV\", \"Dishes and silverware\"]',\n",
       " 'price': '$1,135.00',\n",
       " 'minimum_nights': 3,\n",
       " 'maximum_nights': 365,\n",
       " 'minimum_minimum_nights': 3,\n",
       " 'maximum_minimum_nights': 4,\n",
       " 'minimum_maximum_nights': 365,\n",
       " 'maximum_maximum_nights': 365,\n",
       " 'minimum_nights_avg_ntm': 3.1,\n",
       " 'maximum_nights_avg_ntm': 365,\n",
       " 'has_availability': 't',\n",
       " 'availability_30': 24,\n",
       " 'availability_60': 54,\n",
       " 'availability_90': 84,\n",
       " 'availability_365': 174,\n",
       " 'calendar_last_scraped': '2021-02-21',\n",
       " 'number_of_reviews': 134,\n",
       " 'number_of_reviews_ltm': 1,\n",
       " 'number_of_reviews_l30d': 0,\n",
       " 'first_review': '2011-02-14',\n",
       " 'last_review': '2020-03-24',\n",
       " 'review_scores_rating': 97,\n",
       " 'review_scores_accuracy': 10,\n",
       " 'review_scores_cleanliness': 9,\n",
       " 'review_scores_checkin': 10,\n",
       " 'review_scores_communication': 10,\n",
       " 'review_scores_location': 10,\n",
       " 'review_scores_value': 9,\n",
       " 'instant_bookable': 'f',\n",
       " 'calculated_host_listings_count': 1,\n",
       " 'calculated_host_listings_count_entire_homes': 1,\n",
       " 'calculated_host_listings_count_private_rooms': 0,\n",
       " 'calculated_host_listings_count_shared_rooms': 0,\n",
       " 'reviews_per_month': 1.1}"
      ]
     },
     "execution_count": 23,
     "metadata": {},
     "output_type": "execute_result"
    }
   ],
   "source": [
    "# check the first item\n",
    "collection.find_one()"
   ]
  },
  {
   "cell_type": "code",
   "execution_count": 39,
   "metadata": {},
   "outputs": [
    {
     "name": "stdout",
     "output_type": "stream",
     "text": [
      "total number of hosts: 2048\n"
     ]
    }
   ],
   "source": [
    "# total number of hosts\n",
    "x = len(collection.distinct('host_id'))\n",
    "print('total number of hosts:', x)"
   ]
  },
  {
   "cell_type": "code",
   "execution_count": 49,
   "metadata": {},
   "outputs": [
    {
     "name": "stdout",
     "output_type": "stream",
     "text": [
      "total number of superhosts: 1286\n",
      "total number of non-superhosts: 5797\n",
      "superhost percentage: 0.18\n"
     ]
    }
   ],
   "source": [
    "# total number of superhosts\n",
    "\n",
    "query = {'host_is_superhost': 't'}\n",
    "x = collection.count_documents(query)\n",
    "\n",
    "query = {'host_is_superhost': 'f'}\n",
    "y = collection.count_documents(query)\n",
    "\n",
    "print('total number of superhosts:', x)\n",
    "print('total number of non-superhosts:', y)\n",
    "print('superhost percentage:', round(x/(x+y),2))"
   ]
  },
  {
   "cell_type": "code",
   "execution_count": 53,
   "metadata": {},
   "outputs": [
    {
     "name": "stdout",
     "output_type": "stream",
     "text": [
      "number of property types: 76\n"
     ]
    }
   ],
   "source": [
    "# number of property types\n",
    "\n",
    "x = len(collection.distinct('property_type'))\n",
    "print('number of property types:', x)"
   ]
  },
  {
   "cell_type": "code",
   "execution_count": 55,
   "metadata": {},
   "outputs": [
    {
     "data": {
      "text/plain": [
       "['Entire home/apt', 'Hotel room', 'Private room', 'Shared room']"
      ]
     },
     "execution_count": 55,
     "metadata": {},
     "output_type": "execute_result"
    }
   ],
   "source": [
    "# number of room type\n",
    "collection.distinct('room_type')"
   ]
  },
  {
   "cell_type": "code",
   "execution_count": 84,
   "metadata": {},
   "outputs": [
    {
     "name": "stdout",
     "output_type": "stream",
     "text": [
      "{'name': '香港 Hong Kong 長洲 Cheung Chau lsland', 'description': '離碼頭 8-10分鐘路程 (free wifi)<br /><br /><b>The space</b><br />整個單位330呎 採全開放式,正常可2人睡( 不是和別人供享的 ) 2人後就加$80元1個人 (小朋友同價) 因空間比一般渡假屋大 另可加2張單人摺床或雙人充氣床褥，沙發夠大都足夠睡1人 單位最多5人睡,可供簡單煮食<br />(如有寵物每隻額外收取$80元 訂時加人數一位就可) 屋内已有水兜 軟墊和狗廁所提供 來前請咨詢)<br /><br /><b>Guest access</b><br />free wifi 風筒 洗澡用品 電熱水爐 電熱水煲 藍牙speakers 自拍腳架 小暖風機  Gas煮食爐<br /><br /><b>Other things to note</b><br />不是共享單位  沒有海景  不可BBQ 要自備牙刷牙膏毛巾3樣', 'number_of_reviews': 828}\n",
      "\n",
      "the highest number of review: 828\n"
     ]
    }
   ],
   "source": [
    "# number of reivew\n",
    "\n",
    "x = collection.find({},{\n",
    "        '_id':0, 'name':1,\n",
    "        'description':1,\n",
    "        'number_of_reviews':1\n",
    "    }).sort('number_of_reviews',-1).limit(1)\n",
    "\n",
    "for cursor in x:\n",
    "    print(cursor)\n",
    "    print('\\nthe highest number of review:', cursor['number_of_reviews'])"
   ]
  },
  {
   "cell_type": "code",
   "execution_count": 98,
   "metadata": {},
   "outputs": [
    {
     "name": "stdout",
     "output_type": "stream",
     "text": [
      "average number of review per listing(excluding zero review): 40.86\n"
     ]
    }
   ],
   "source": [
    "# average number of review per listing\n",
    "\n",
    "def streaming_average(previous_count, previous_average, n):\n",
    "    new_average = ((previous_count * previous_average) + n) / (previous_count + 1)\n",
    "    return new_average\n",
    "\n",
    "x = collection.find({},{'_id':0, 'number_of_reviews':1})\n",
    "\n",
    "previous_count, previous_average = 0, 0\n",
    "for cursor in x:\n",
    "    n = cursor['number_of_reviews']\n",
    "    \n",
    "    # skip all zero review\n",
    "    if n != 0:\n",
    "        new_average = streaming_average(previous_count, previous_average, n)\n",
    "    \n",
    "    previous_average = new_average\n",
    "    previous_count += 1\n",
    "\n",
    "print('average number of review per listing(excluding zero review):', round(new_average,2))"
   ]
  },
  {
   "cell_type": "code",
   "execution_count": 102,
   "metadata": {
    "scrolled": false
   },
   "outputs": [
    {
     "data": {
      "text/plain": [
       "['Central & Western',\n",
       " 'Eastern',\n",
       " 'Islands',\n",
       " 'Kowloon City',\n",
       " 'Kwai Tsing',\n",
       " 'Kwun Tong',\n",
       " 'North',\n",
       " 'Sai Kung',\n",
       " 'Sha Tin',\n",
       " 'Sham Shui Po',\n",
       " 'Southern',\n",
       " 'Tai Po',\n",
       " 'Tsuen Wan',\n",
       " 'Tuen Mun',\n",
       " 'Wan Chai',\n",
       " 'Wong Tai Sin',\n",
       " 'Yau Tsim Mong',\n",
       " 'Yuen Long']"
      ]
     },
     "execution_count": 102,
     "metadata": {},
     "output_type": "execute_result"
    }
   ],
   "source": [
    "# 18 districts\n",
    "collection.distinct('neighbourhood_cleansed')"
   ]
  },
  {
   "cell_type": "markdown",
   "metadata": {},
   "source": [
    "# 2. Yau Tsim Mong"
   ]
  },
  {
   "cell_type": "code",
   "execution_count": 17,
   "metadata": {},
   "outputs": [
    {
     "name": "stdout",
     "output_type": "stream",
     "text": [
      "total number of listings: 3038\n"
     ]
    }
   ],
   "source": [
    "# total number of listings in 'Yau Tsim Mong'\n",
    "\n",
    "x = collection.count_documents({'neighbourhood_cleansed':'Yau Tsim Mong'})\n",
    "print('total number of listings:', x)"
   ]
  },
  {
   "cell_type": "code",
   "execution_count": 108,
   "metadata": {},
   "outputs": [
    {
     "name": "stdout",
     "output_type": "stream",
     "text": [
      "listing name: Couple Tatami Room@Austin,Jordan,Tsim Sha Tsu\n",
      "number of reviews: 472\n",
      "\n",
      "\n",
      "listing name: 1分鐘到高鐵站,地鐵站、1min to Metro Station,Free Pocket WiFi\n",
      "number of reviews: 433\n",
      "\n",
      "\n",
      "listing name: Lovely home Mong Kok MTR Railway 4 beds\n",
      "number of reviews: 384\n",
      "\n",
      "\n",
      "listing name: Twin Room@hub of Kowloon to Airport and China\n",
      "number of reviews: 378\n",
      "\n",
      "\n",
      "listing name: Single Tatami1@Austin,Jordan,Tsim Sha Tsui\n",
      "number of reviews: 372\n",
      "\n",
      "\n"
     ]
    }
   ],
   "source": [
    "# top 5 listings by review no\n",
    "\n",
    "x = collection.find({'neighbourhood_cleansed':'Yau Tsim Mong'},\n",
    "                    {'_id':0, \n",
    "                     'name':1, \n",
    "                     'number_of_reviews':1}).sort('number_of_reviews',-1).limit(5)\n",
    "\n",
    "for cursor in x:\n",
    "    print('listing name:', cursor['name'])\n",
    "    print('number of reviews:', cursor['number_of_reviews'])\n",
    "    print('\\n')"
   ]
  },
  {
   "cell_type": "code",
   "execution_count": 110,
   "metadata": {},
   "outputs": [
    {
     "name": "stdout",
     "output_type": "stream",
     "text": [
      "listing name: ❤❤ Peaceful Apartment ❤❤ Tsim Sha Tsui\n",
      "number of reviews: 364\n",
      "\n",
      "\n",
      "listing name: Comfort Home in Prince Edward Mtr 4 beds\n",
      "number of reviews: 353\n",
      "\n",
      "\n",
      "listing name: Deluxe Twin Room@Tsim Sha Tsui,Austin,Jordan\n",
      "number of reviews: 349\n",
      "\n",
      "\n",
      "listing name: (3) 干、濕分開,溫馨雙人大床房間(房號3)!值得一試!\n",
      "number of reviews: 344\n",
      "\n",
      "\n",
      "listing name: Tsim Sha Tsui, newly 2 beds apt. I.\n",
      "number of reviews: 338\n",
      "\n",
      "\n"
     ]
    }
   ],
   "source": [
    "# next top 5 (5-10th) listings by review no\n",
    "\n",
    "x = collection.find({'neighbourhood_cleansed':'Yau Tsim Mong'},\n",
    "                    {'_id':0, \n",
    "                     'name':1, \n",
    "                     'number_of_reviews':1}).sort('number_of_reviews',-1).skip(5).limit(5)\n",
    "\n",
    "for cursor in x:\n",
    "    print('listing name:', cursor['name'])\n",
    "    print('number of reviews:', cursor['number_of_reviews'])\n",
    "    print('\\n')"
   ]
  },
  {
   "cell_type": "code",
   "execution_count": 11,
   "metadata": {},
   "outputs": [
    {
     "name": "stdout",
     "output_type": "stream",
     "text": [
      "listing name: 位於香港九龍彌敦道全新裝修四人套房，附近有機場巴士及地鐵直達各景點及購物區，環境舒適安靜\n",
      "review_scores_rating: 100\n",
      "number of reviews: 98\n",
      "\n",
      "\n",
      "listing name: 三人獨立套房，位於繁盛彌敦道，全新裝修，交通方便，附近地鐵站，機場巴士，大型購物商場，購物方便\n",
      "review_scores_rating: 100\n",
      "number of reviews: 82\n",
      "\n",
      "\n",
      "listing name: 位於彌敦道雙床套房，交通便利，附近有機場巴士及旺角地鐵站，近購物區，方便往返中環、尖沙咀及各旅遊景點\n",
      "review_scores_rating: 100\n",
      "number of reviews: 83\n",
      "\n",
      "\n",
      "listing name: 【暮时初见】  仅限女生超高层人气小区  超赞夜景 双地铁 小巴5分钟直达旺角 不一样味道的老香港\n",
      "review_scores_rating: 99\n",
      "number of reviews: 153\n",
      "\n",
      "\n",
      "listing name: GREAT LOCATION! MTR JORDAN! Perfect KINGBED Studio\n",
      "review_scores_rating: 99\n",
      "number of reviews: 176\n",
      "\n",
      "\n"
     ]
    }
   ],
   "source": [
    "# top 5 listings by review rating with at least 50 reviews\n",
    "\n",
    "x = collection.find({'neighbourhood_cleansed':'Yau Tsim Mong',\n",
    "                     'number_of_reviews':{'$gt':50}},\n",
    "                    {'_id':0, \n",
    "                     'name':1, \n",
    "                     'number_of_reviews':1, \n",
    "                     'review_scores_rating':1}).sort('review_scores_rating',-1).limit(5)\n",
    "\n",
    "for cursor in x:\n",
    "    print('listing name:', cursor['name'])\n",
    "    print('review_scores_rating:', cursor['review_scores_rating'])\n",
    "    print('number of reviews:', cursor['number_of_reviews'])\n",
    "    print('\\n')"
   ]
  },
  {
   "cell_type": "code",
   "execution_count": 14,
   "metadata": {},
   "outputs": [
    {
     "name": "stdout",
     "output_type": "stream",
     "text": [
      "listing name: Stylish Comfortable Home  <2 minute walk to MTR>\n",
      "review_scores_rating: 99\n",
      "number of reviews: 91\n",
      "\n",
      "\n",
      "listing name: 双人獨立套房，位於繁盛彌敦道，全新裝修，交通方便，鄰近地鐵站，機場巴士，大型購物商場，購物方便\n",
      "review_scores_rating: 99\n",
      "number of reviews: 110\n",
      "\n",
      "\n",
      "listing name: GREAT LOCATION! MTR JORDAN! Perfect KINGBED Studio\n",
      "review_scores_rating: 99\n",
      "number of reviews: 176\n",
      "\n",
      "\n",
      "listing name: ELEMENTS & ICC MTR AUSTIN! 850sf 2Baths Sleeps 7!\n",
      "review_scores_rating: 99\n",
      "number of reviews: 159\n",
      "\n",
      "\n",
      "listing name: New & Comfy Private Room for Single Traveler @TST\n",
      "review_scores_rating: 98\n",
      "number of reviews: 210\n",
      "\n",
      "\n"
     ]
    }
   ],
   "source": [
    "# next top 5 (5-10)listings by review rating with at least 50 reviews\n",
    "\n",
    "x = collection.find({'neighbourhood_cleansed':'Yau Tsim Mong',\n",
    "                     'number_of_reviews':{'$gt':50}},\n",
    "                    {'_id':0, \n",
    "                     'name':1, \n",
    "                     'number_of_reviews':1, \n",
    "                     'review_scores_rating':1}).sort('review_scores_rating',-1).skip(5).limit(5)\n",
    "\n",
    "for cursor in x:\n",
    "    print('listing name:', cursor['name'])\n",
    "    print('review_scores_rating:', cursor['review_scores_rating'])\n",
    "    print('number of reviews:', cursor['number_of_reviews'])\n",
    "    print('\\n')"
   ]
  },
  {
   "cell_type": "code",
   "execution_count": 30,
   "metadata": {
    "scrolled": false
   },
   "outputs": [
    {
     "name": "stdout",
     "output_type": "stream",
     "text": [
      "listing name: 交通非常方便一室一卫双人床. 入住2人\n",
      "review_scores_rating: 20\n",
      "\n",
      "\n",
      "listing name: Family Room near MTR\n",
      "review_scores_rating: 20\n",
      "\n",
      "\n",
      "listing name: NICE room @Yau Ma Tei -Y13c\n",
      "review_scores_rating: 20\n",
      "\n",
      "\n",
      "listing name: 1 step from Tsim sha Tsui Metro - Top Location\n",
      "review_scores_rating: 20\n",
      "\n",
      "\n",
      "listing name: Family Room (Strawberry Guest House)\n",
      "review_scores_rating: 20\n",
      "\n",
      "\n",
      "listing name: Tsim sha tsui  private toilet accept monthly rent\n",
      "review_scores_rating: 20\n",
      "\n",
      "\n",
      "listing name: Tsimshatui flat share room (T4c)\n",
      "review_scores_rating: 20\n",
      "\n",
      "\n",
      "listing name: HL703(Double RM)Mong Kok MTR STATION,FREE WI-FI\n",
      "review_scores_rating: 20\n",
      "\n",
      "\n",
      "listing name: 508（4ppl)\n",
      "review_scores_rating: 20\n",
      "\n",
      "\n",
      "listing name: Pandora Inn @ Jordan\n",
      "review_scores_rating: 20\n",
      "\n",
      "\n",
      "listing name: Two Single Beds Room Tsim Sha Tsui (W.S.I. Hotel)\n",
      "review_scores_rating: 20\n",
      "\n",
      "\n",
      "listing name: Yau Ma Tei Shared Flat (Y8e)\n",
      "review_scores_rating: 20\n",
      "\n",
      "\n",
      "listing name: Tsim Sha Tsui ensuite Toilet room\n",
      "review_scores_rating: 20\n",
      "\n",
      "\n",
      "listing name: Cozy & comfy room Near Subway!\n",
      "review_scores_rating: 20\n",
      "\n",
      "\n",
      "listing name: Privāte cozy room w/ toilet in chunking Mansion\n",
      "review_scores_rating: 20\n",
      "\n",
      "\n",
      "listing name: hot area tst top low budget comfortable room\n",
      "review_scores_rating: 20\n",
      "\n",
      "\n",
      "review_scores_rating: 20\n",
      "\n",
      "\n",
      "listing name: South east Asia awarded best values commendation\n",
      "review_scores_rating: 20\n",
      "\n",
      "\n",
      "listing name: 旺角地鐵站(近朗豪坊)，現代風，靚裝！\n",
      "review_scores_rating: 20\n",
      "\n",
      "\n",
      "listing name: 庙街夜市、裕华国货、永安百貨、地鐵站3分鐘，尖沙咀10分鐘\n",
      "review_scores_rating: 20\n",
      "\n",
      "\n",
      "listing name: 香港最繁華的市中心， 維多利亞港旁， 吃喝玩樂全在這裏。Central located in HK.\n",
      "review_scores_rating: 20\n",
      "\n",
      "\n",
      "listing name: Atlas Hostel 2.0 at Tsim Sha Tsui - 1分鐘到尖沙咀地鐵站\n",
      "review_scores_rating: 20\n",
      "\n",
      "\n",
      "listing name: 20% off STANDARD SINGLE ROOM (City View)\n",
      "review_scores_rating: 20\n",
      "\n",
      "\n",
      "listing name: 香港微18 (Hong Kong Mini 18 Hotel) 标准双床房Twin Bed Room\n",
      "review_scores_rating: 20\n",
      "\n",
      "\n",
      "listing name: 尖沙咀地鐵站2分鐘Loft裝修套房（私人衛浴）合最多5人入住\n",
      "review_scores_rating: 20\n",
      "\n",
      "\n",
      "listing name: 油麻地柯士甸佐敦性價比大廈\n",
      "review_scores_rating: 20\n",
      "\n",
      "\n",
      "listing name: I海边精装酒店式公寓两室两厅一厨一卫68平楼下维港海景夜景健身房泳池免费尖沙咀海港城红磡红馆每天打扫\n",
      "review_scores_rating: 20\n",
      "\n",
      "\n",
      "listing name: 旺角區經濟大床房Budget Double Rm@Mong Kok1702\n",
      "review_scores_rating: 20\n",
      "\n",
      "\n",
      "listing name: T3A - Large 3BR 1100sq.ft Staycation Getaway\n",
      "review_scores_rating: 20\n",
      "\n",
      "\n"
     ]
    }
   ],
   "source": [
    "# all listings with review rating score below 50\n",
    "\n",
    "x = collection.find({'neighbourhood_cleansed':'Yau Tsim Mong',\n",
    "                    'review_scores_rating':{'$lt':30}},\n",
    "                   {'_id':0, \n",
    "                     'name':1, \n",
    "                     'review_scores_rating':1})\n",
    "\n",
    "for cursor in x:\n",
    "    try:\n",
    "        print('listing name:', cursor['name'])\n",
    "    except:\n",
    "        pass\n",
    "    print('review_scores_rating:', cursor['review_scores_rating'])\n",
    "    print('\\n')"
   ]
  },
  {
   "cell_type": "code",
   "execution_count": null,
   "metadata": {},
   "outputs": [],
   "source": [
    "# observations show that the lowest review rating score is 20\n",
    "# 20 may be the minimum possible score"
   ]
  },
  {
   "cell_type": "code",
   "execution_count": 44,
   "metadata": {},
   "outputs": [
    {
     "name": "stdout",
     "output_type": "stream",
     "text": [
      "average price: 332.46\n"
     ]
    }
   ],
   "source": [
    "# averaage price\n",
    "\n",
    "x = collection.find({'neighbourhood_cleansed':'Yau Tsim Mong'},\n",
    "                 {'_id':0, \n",
    "                 'name':1, \n",
    "                 'price':1})\n",
    "\n",
    "total = 0\n",
    "count = 0\n",
    "for cursor in x:\n",
    "    try:\n",
    "        count += 1\n",
    "        total += float(cursor['price'].replace('$',''))\n",
    "    except:\n",
    "        pass\n",
    "\n",
    "average_price = total / count    \n",
    "print('average price:', round(average_price,2))"
   ]
  },
  {
   "cell_type": "code",
   "execution_count": 64,
   "metadata": {},
   "outputs": [
    {
     "name": "stdout",
     "output_type": "stream",
     "text": [
      "number of listings that have 2 bedrooms or 3 beds: 97\n"
     ]
    }
   ],
   "source": [
    "# listings with 'bedrooms': 2 or 'beds': 3\n",
    "\n",
    "x = collection.count_documents({'neighbourhood_cleansed':'Yau Tsim Mong',\n",
    "                                '$or':\n",
    "                                [{'bedrooms': 2, \n",
    "                                  'beds': 3}]})\n",
    "\n",
    "print('number of listings that have 2 bedrooms or 3 beds:', x)"
   ]
  },
  {
   "cell_type": "markdown",
   "metadata": {},
   "source": [
    "# 3. Central & Western"
   ]
  },
  {
   "cell_type": "code",
   "execution_count": 18,
   "metadata": {},
   "outputs": [
    {
     "name": "stdout",
     "output_type": "stream",
     "text": [
      "total number of listings: 930\n"
     ]
    }
   ],
   "source": [
    "# total number of listings in 'Central & Western'\n",
    "\n",
    "x = collection.count_documents({'neighbourhood_cleansed':'Central & Western'})\n",
    "print('total number of listings:', x)"
   ]
  },
  {
   "cell_type": "code",
   "execution_count": 109,
   "metadata": {
    "scrolled": true
   },
   "outputs": [
    {
     "name": "stdout",
     "output_type": "stream",
     "text": [
      "listing name: SOHO'S URBAN CHIC DESIGNERS APT\n",
      "number of reviews: 410\n",
      "\n",
      "\n",
      "listing name: cdk guest room - twin\n",
      "number of reviews: 319\n",
      "\n",
      "\n",
      "listing name: Stunning Large Studio + Terrace. 1min to MTR.\n",
      "number of reviews: 312\n",
      "\n",
      "\n",
      "listing name: Central Centre 5 min walk to/from Central MTR\n",
      "number of reviews: 272\n",
      "\n",
      "\n",
      "listing name: Soho off Hollywood Road P3\n",
      "number of reviews: 232\n",
      "\n",
      "\n"
     ]
    }
   ],
   "source": [
    "# top 5 listings by review no\n",
    "\n",
    "x = collection.find({'neighbourhood_cleansed':'Central & Western'},\n",
    "                    {'_id':0, \n",
    "                     'name':1, \n",
    "                     'number_of_reviews':1}).sort('number_of_reviews',-1).limit(5)\n",
    "\n",
    "for cursor in x:\n",
    "    print('listing name:', cursor['name'])\n",
    "    print('number of reviews:', cursor['number_of_reviews'])\n",
    "    print('\\n')"
   ]
  },
  {
   "cell_type": "code",
   "execution_count": 111,
   "metadata": {
    "scrolled": false
   },
   "outputs": [
    {
     "name": "stdout",
     "output_type": "stream",
     "text": [
      "listing name: SoHo off Hollywood Road  3B\n",
      "number of reviews: 229\n",
      "\n",
      "\n",
      "listing name: Soho off Hollywood Road P4\n",
      "number of reviews: 224\n",
      "\n",
      "\n",
      "listing name: Perfect Retreat in Heart of City. 30sec to MTR.\n",
      "number of reviews: 221\n",
      "\n",
      "\n",
      "listing name: GREEN NEST IN  SHEUNG WAN HEART\n",
      "number of reviews: 208\n",
      "\n",
      "\n",
      "listing name: Fabulous 2 Bdrm Aprt Open kitchen\n",
      "number of reviews: 207\n",
      "\n",
      "\n"
     ]
    }
   ],
   "source": [
    "# next top 5 (5-10th) listings by review no\n",
    "\n",
    "x = collection.find({'neighbourhood_cleansed':'Central & Western'},\n",
    "                    {'_id':0, \n",
    "                     'name':1, \n",
    "                     'number_of_reviews':1}).sort('number_of_reviews',-1).skip(5).limit(5)\n",
    "\n",
    "for cursor in x:\n",
    "    print('listing name:', cursor['name'])\n",
    "    print('number of reviews:', cursor['number_of_reviews'])\n",
    "    print('\\n')"
   ]
  },
  {
   "cell_type": "code",
   "execution_count": 12,
   "metadata": {},
   "outputs": [
    {
     "name": "stdout",
     "output_type": "stream",
     "text": [
      "listing name: Unique, spacious & superbly located\n",
      "review_scores_rating: 99\n",
      "number of reviews: 75\n",
      "\n",
      "\n",
      "listing name: Room in a modern apt, in cool  spot\n",
      "review_scores_rating: 98\n",
      "number of reviews: 170\n",
      "\n",
      "\n",
      "listing name: Bright Studio - Soho - Central HK\n",
      "review_scores_rating: 98\n",
      "number of reviews: 163\n",
      "\n",
      "\n",
      "listing name: NEW 5 Star 1BR Apartment in Central\n",
      "review_scores_rating: 98\n",
      "number of reviews: 61\n",
      "\n",
      "\n",
      "listing name: Brand New Designer Apartment\n",
      "review_scores_rating: 98\n",
      "number of reviews: 140\n",
      "\n",
      "\n"
     ]
    }
   ],
   "source": [
    "# top 5 listings by review rating with at least 50 reviews\n",
    "\n",
    "x = collection.find({'neighbourhood_cleansed':'Central & Western',\n",
    "                     'number_of_reviews':{'$gt':50}},\n",
    "                    {'_id':0, \n",
    "                     'name':1, \n",
    "                     'number_of_reviews':1, \n",
    "                     'review_scores_rating':1}).sort('review_scores_rating',-1).limit(5)\n",
    "\n",
    "for cursor in x:\n",
    "    print('listing name:', cursor['name'])\n",
    "    print('review_scores_rating:', cursor['review_scores_rating'])\n",
    "    print('number of reviews:', cursor['number_of_reviews'])\n",
    "    print('\\n')"
   ]
  },
  {
   "cell_type": "code",
   "execution_count": 15,
   "metadata": {
    "scrolled": true
   },
   "outputs": [
    {
     "name": "stdout",
     "output_type": "stream",
     "text": [
      "listing name: NEW 5 Star 1BR Apartment in Central\n",
      "review_scores_rating: 98\n",
      "number of reviews: 61\n",
      "\n",
      "\n",
      "listing name: SOHO Oasis\n",
      "review_scores_rating: 98\n",
      "number of reviews: 65\n",
      "\n",
      "\n",
      "listing name: Perfect Retreat in Heart of City. 30sec to MTR.\n",
      "review_scores_rating: 98\n",
      "number of reviews: 221\n",
      "\n",
      "\n",
      "listing name: Bright Studio - Soho - Central HK\n",
      "review_scores_rating: 98\n",
      "number of reviews: 163\n",
      "\n",
      "\n",
      "listing name: Hipster-hood Kennedy Town flat with queen size bed\n",
      "review_scores_rating: 97\n",
      "number of reviews: 60\n",
      "\n",
      "\n"
     ]
    }
   ],
   "source": [
    "# next top 5 (5-10)listings by review rating with at least 50 reviews\n",
    "\n",
    "x = collection.find({'neighbourhood_cleansed':'Central & Western',\n",
    "                     'number_of_reviews':{'$gt':50}},\n",
    "                    {'_id':0, \n",
    "                     'name':1, \n",
    "                     'number_of_reviews':1, \n",
    "                     'review_scores_rating':1}).sort('review_scores_rating',-1).skip(5).limit(5)\n",
    "\n",
    "for cursor in x:\n",
    "    print('listing name:', cursor['name'])\n",
    "    print('review_scores_rating:', cursor['review_scores_rating'])\n",
    "    print('number of reviews:', cursor['number_of_reviews'])\n",
    "    print('\\n')"
   ]
  },
  {
   "cell_type": "code",
   "execution_count": 31,
   "metadata": {
    "scrolled": true
   },
   "outputs": [
    {
     "name": "stdout",
     "output_type": "stream",
     "text": [
      "listing name: At the heart HK Open View Nice Deco\n",
      "review_scores_rating: 20\n",
      "\n",
      "\n",
      "listing name: Caine Mansion\n",
      "review_scores_rating: 20\n",
      "\n",
      "\n",
      "listing name: Beautiful place in the heart of Central Hongkong\n",
      "review_scores_rating: 20\n",
      "\n",
      "\n",
      "listing name: Modern fully equipped flat in Shueng wan\n",
      "review_scores_rating: 20\n",
      "\n",
      "\n",
      "listing name: Cozy renovated studio with private rooftop\n",
      "review_scores_rating: 20\n",
      "\n",
      "\n"
     ]
    }
   ],
   "source": [
    "# all listings with review rating score below 50\n",
    "\n",
    "x = collection.find({'neighbourhood_cleansed':'Central & Western',\n",
    "                    'review_scores_rating':{'$lt':30}},\n",
    "                   {'_id':0, \n",
    "                     'name':1, \n",
    "                     'review_scores_rating':1})\n",
    "\n",
    "for cursor in x:\n",
    "    try:\n",
    "        print('listing name:', cursor['name'])\n",
    "    except:\n",
    "        pass\n",
    "    print('review_scores_rating:', cursor['review_scores_rating'])\n",
    "    print('\\n')"
   ]
  },
  {
   "cell_type": "code",
   "execution_count": 45,
   "metadata": {},
   "outputs": [
    {
     "name": "stdout",
     "output_type": "stream",
     "text": [
      "average price: 364.39\n"
     ]
    }
   ],
   "source": [
    "# averaage price\n",
    "\n",
    "x = collection.find({'neighbourhood_cleansed':'Central & Western'},\n",
    "                 {'_id':0, \n",
    "                 'name':1, \n",
    "                 'price':1})\n",
    "\n",
    "total = 0\n",
    "count = 0\n",
    "for cursor in x:\n",
    "    try:\n",
    "        count += 1\n",
    "        total += float(cursor['price'].replace('$',''))\n",
    "    except:\n",
    "        pass\n",
    "\n",
    "average_price = total / count    \n",
    "print('average price:', round(average_price,2))"
   ]
  },
  {
   "cell_type": "code",
   "execution_count": 65,
   "metadata": {},
   "outputs": [
    {
     "name": "stdout",
     "output_type": "stream",
     "text": [
      "number of listings that have 2 bedrooms or 3 beds: 24\n"
     ]
    }
   ],
   "source": [
    "# listings with 'bedrooms': 2 or 'beds': 3\n",
    "\n",
    "x = collection.count_documents({'neighbourhood_cleansed':'Central & Western',\n",
    "                                '$or':\n",
    "                                [{'bedrooms': 2, \n",
    "                                  'beds': 3}]})\n",
    "\n",
    "print('number of listings that have 2 bedrooms or 3 beds:', x)"
   ]
  },
  {
   "cell_type": "markdown",
   "metadata": {},
   "source": [
    "# 4. Yuen Long"
   ]
  },
  {
   "cell_type": "code",
   "execution_count": 19,
   "metadata": {},
   "outputs": [
    {
     "name": "stdout",
     "output_type": "stream",
     "text": [
      "total number of listings: 132\n"
     ]
    }
   ],
   "source": [
    "# total number of listings in 'Yuen Long'\n",
    "\n",
    "x = collection.count_documents({'neighbourhood_cleansed':'Yuen Long'})\n",
    "print('total number of listings:', x)"
   ]
  },
  {
   "cell_type": "code",
   "execution_count": 112,
   "metadata": {
    "scrolled": true
   },
   "outputs": [
    {
     "name": "stdout",
     "output_type": "stream",
     "text": [
      "listing name: 超赞房东 性价比高special deal 300 m to metro musician home\n",
      "number of reviews: 100\n",
      "\n",
      "\n",
      "listing name: 超赞豪华景观公寓浪漫情侣大床房/卓悦中心网红打卡商圈高端物业\n",
      "number of reviews: 97\n",
      "\n",
      "\n",
      "listing name: 高层景观舒适公寓双人房/福田口岸地铁囗高端小区/CBD会展中心/清静安全\n",
      "number of reviews: 62\n",
      "\n",
      "\n",
      "listing name: （已消毒，长租优惠）福田口岸，皇岗口岸，广深高速进出口，知名设计师佳作，精美三房\n",
      "number of reviews: 58\n",
      "\n",
      "\n",
      "listing name: Guest Room w/ Double Bed in Spacious Flat\n",
      "number of reviews: 55\n",
      "\n",
      "\n"
     ]
    }
   ],
   "source": [
    "# top 5 listings by review no\n",
    "\n",
    "x = collection.find({'neighbourhood_cleansed':'Yuen Long'},\n",
    "                    {'_id':0, \n",
    "                     'name':1, \n",
    "                     'number_of_reviews':1}).sort('number_of_reviews',-1).limit(5)\n",
    "\n",
    "for cursor in x:\n",
    "    print('listing name:', cursor['name'])\n",
    "    print('number of reviews:', cursor['number_of_reviews'])\n",
    "    print('\\n')"
   ]
  },
  {
   "cell_type": "code",
   "execution_count": 113,
   "metadata": {
    "scrolled": true
   },
   "outputs": [
    {
     "name": "stdout",
     "output_type": "stream",
     "text": [
      "listing name: [初心]福田口岸会展中心直达北站温馨两居室可居4一6人\n",
      "number of reviews: 51\n",
      "\n",
      "\n",
      "listing name: 福田口岸地铁口舒适公寓温馨双人房/近CBD会展中心、购物公园、网红打卡商圈\n",
      "number of reviews: 44\n",
      "\n",
      "\n",
      "listing name: House with countryside view 元朗別墅獨立套房連陽台\n",
      "number of reviews: 40\n",
      "\n",
      "\n",
      "listing name: 福田口岸地铁口近CBD会展中心温馨舒适高级公寓双人房\n",
      "number of reviews: 40\n",
      "\n",
      "\n",
      "listing name: Beautiful 3 bedroom designer Apt\n",
      "number of reviews: 38\n",
      "\n",
      "\n"
     ]
    }
   ],
   "source": [
    "# next top 5 (5-10th) listings by review no\n",
    "\n",
    "x = collection.find({'neighbourhood_cleansed':'Yuen Long'},\n",
    "                    {'_id':0, \n",
    "                     'name':1, \n",
    "                     'number_of_reviews':1}).sort('number_of_reviews',-1).skip(5).limit(5)\n",
    "\n",
    "for cursor in x:\n",
    "    print('listing name:', cursor['name'])\n",
    "    print('number of reviews:', cursor['number_of_reviews'])\n",
    "    print('\\n')"
   ]
  },
  {
   "cell_type": "code",
   "execution_count": 13,
   "metadata": {
    "scrolled": true
   },
   "outputs": [
    {
     "name": "stdout",
     "output_type": "stream",
     "text": [
      "listing name: （已消毒，长租优惠）福田口岸，皇岗口岸，广深高速进出口，知名设计师佳作，精美三房\n",
      "review_scores_rating: 100\n",
      "number of reviews: 58\n",
      "\n",
      "\n",
      "listing name: 超赞房东 性价比高special deal 300 m to metro musician home\n",
      "review_scores_rating: 96\n",
      "number of reviews: 100\n",
      "\n",
      "\n",
      "listing name: Guest Room w/ Double Bed in Spacious Flat\n",
      "review_scores_rating: 95\n",
      "number of reviews: 55\n",
      "\n",
      "\n",
      "listing name: 超赞豪华景观公寓浪漫情侣大床房/卓悦中心网红打卡商圈高端物业\n",
      "review_scores_rating: 94\n",
      "number of reviews: 97\n",
      "\n",
      "\n",
      "listing name: 高层景观舒适公寓双人房/福田口岸地铁囗高端小区/CBD会展中心/清静安全\n",
      "review_scores_rating: 93\n",
      "number of reviews: 62\n",
      "\n",
      "\n"
     ]
    }
   ],
   "source": [
    "# top 5 listings by review rating with at least 50 reviews\n",
    "\n",
    "x = collection.find({'neighbourhood_cleansed':'Yuen Long',\n",
    "                     'number_of_reviews':{'$gt':50}},\n",
    "                    {'_id':0, \n",
    "                     'name':1, \n",
    "                     'number_of_reviews':1, \n",
    "                     'review_scores_rating':1}).sort('review_scores_rating',-1).limit(5)\n",
    "\n",
    "for cursor in x:\n",
    "    print('listing name:', cursor['name'])\n",
    "    print('review_scores_rating:', cursor['review_scores_rating'])\n",
    "    print('number of reviews:', cursor['number_of_reviews'])\n",
    "    print('\\n')"
   ]
  },
  {
   "cell_type": "code",
   "execution_count": 16,
   "metadata": {},
   "outputs": [
    {
     "name": "stdout",
     "output_type": "stream",
     "text": [
      "listing name: 高层景观舒适公寓双人房/福田口岸地铁囗高端小区/CBD会展中心/清静安全\n",
      "review_scores_rating: 93\n",
      "number of reviews: 62\n",
      "\n",
      "\n"
     ]
    }
   ],
   "source": [
    "# next top 5 (5-10)listings by review rating with at least 50 reviews\n",
    "\n",
    "x = collection.find({'neighbourhood_cleansed':'Yuen Long',\n",
    "                     'number_of_reviews':{'$gt':50}},\n",
    "                    {'_id':0, \n",
    "                     'name':1, \n",
    "                     'number_of_reviews':1, \n",
    "                     'review_scores_rating':1}).sort('review_scores_rating',-1).skip(5).limit(5)\n",
    "\n",
    "for cursor in x:\n",
    "    print('listing name:', cursor['name'])\n",
    "    print('review_scores_rating:', cursor['review_scores_rating'])\n",
    "    print('number of reviews:', cursor['number_of_reviews'])\n",
    "    print('\\n')"
   ]
  },
  {
   "cell_type": "code",
   "execution_count": null,
   "metadata": {},
   "outputs": [],
   "source": [
    "# interesting findings: most of 'Yuen Long' findings have less than 50 number of reviews\n",
    "# the credibility might be compromized\n",
    "# another reason is that the total number of listings in this district is the other two"
   ]
  },
  {
   "cell_type": "code",
   "execution_count": 32,
   "metadata": {},
   "outputs": [
    {
     "name": "stdout",
     "output_type": "stream",
     "text": [
      "listing name: 福田口岸 会展中心 C bd商圈 鼓浪湾公寓清新大床房\n",
      "review_scores_rating: 20\n",
      "\n",
      "\n"
     ]
    }
   ],
   "source": [
    "# all listings with review rating score below 50\n",
    "\n",
    "x = collection.find({'neighbourhood_cleansed':'Yuen Long',\n",
    "                    'review_scores_rating':{'$lt':30}},\n",
    "                   {'_id':0, \n",
    "                     'name':1, \n",
    "                     'review_scores_rating':1})\n",
    "\n",
    "for cursor in x:\n",
    "    try:\n",
    "        print('listing name:', cursor['name'])\n",
    "    except:\n",
    "        pass\n",
    "    print('review_scores_rating:', cursor['review_scores_rating'])\n",
    "    print('\\n')"
   ]
  },
  {
   "cell_type": "code",
   "execution_count": 46,
   "metadata": {},
   "outputs": [
    {
     "name": "stdout",
     "output_type": "stream",
     "text": [
      "average price: 389.59\n"
     ]
    }
   ],
   "source": [
    "# averaage price\n",
    "\n",
    "x = collection.find({'neighbourhood_cleansed':'Yuen Long'},\n",
    "                 {'_id':0, \n",
    "                 'name':1, \n",
    "                 'price':1})\n",
    "\n",
    "total = 0\n",
    "count = 0\n",
    "for cursor in x:\n",
    "    try:\n",
    "        count += 1\n",
    "        total += float(cursor['price'].replace('$',''))\n",
    "    except:\n",
    "        pass\n",
    "\n",
    "average_price = total / count    \n",
    "print('average price:', round(average_price,2))"
   ]
  },
  {
   "cell_type": "code",
   "execution_count": null,
   "metadata": {},
   "outputs": [],
   "source": [
    "# another surprising finding\n",
    "# though 'Yuen Long' is neither commercial nor financial center like the first two districts\n",
    "# it has the highest average price"
   ]
  },
  {
   "cell_type": "code",
   "execution_count": 66,
   "metadata": {},
   "outputs": [
    {
     "name": "stdout",
     "output_type": "stream",
     "text": [
      "number of listings that have 2 bedrooms or 3 beds: 5\n"
     ]
    }
   ],
   "source": [
    "# listings with 'bedrooms': 2 or 'beds': 3\n",
    "\n",
    "x = collection.count_documents({'neighbourhood_cleansed':'Yuen Long',\n",
    "                                '$or':\n",
    "                                [{'bedrooms': 2, \n",
    "                                  'beds': 3}]})\n",
    "\n",
    "print('number of listings that have 2 bedrooms or 3 beds:', x)"
   ]
  },
  {
   "cell_type": "code",
   "execution_count": null,
   "metadata": {},
   "outputs": [],
   "source": []
  },
  {
   "cell_type": "code",
   "execution_count": null,
   "metadata": {},
   "outputs": [],
   "source": []
  },
  {
   "cell_type": "code",
   "execution_count": 6,
   "metadata": {},
   "outputs": [],
   "source": [
    "# END"
   ]
  }
 ],
 "metadata": {
  "kernelspec": {
   "display_name": "Python 3",
   "language": "python",
   "name": "python3"
  },
  "language_info": {
   "codemirror_mode": {
    "name": "ipython",
    "version": 3
   },
   "file_extension": ".py",
   "mimetype": "text/x-python",
   "name": "python",
   "nbconvert_exporter": "python",
   "pygments_lexer": "ipython3",
   "version": "3.8.5"
  }
 },
 "nbformat": 4,
 "nbformat_minor": 4
}
